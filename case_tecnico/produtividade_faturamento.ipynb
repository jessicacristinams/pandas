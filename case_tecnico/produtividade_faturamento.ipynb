{
 "cells": [
  {
   "cell_type": "code",
   "execution_count": 1,
   "metadata": {},
   "outputs": [],
   "source": [
    "import pandas as pd"
   ]
  },
  {
   "cell_type": "code",
   "execution_count": 4,
   "metadata": {},
   "outputs": [
    {
     "name": "stdout",
     "output_type": "stream",
     "text": [
      "Collecting openpyxl\n",
      "  Downloading openpyxl-3.1.5-py2.py3-none-any.whl.metadata (2.5 kB)\n",
      "Collecting et-xmlfile (from openpyxl)\n",
      "  Downloading et_xmlfile-1.1.0-py3-none-any.whl.metadata (1.8 kB)\n",
      "Downloading openpyxl-3.1.5-py2.py3-none-any.whl (250 kB)\n",
      "Downloading et_xmlfile-1.1.0-py3-none-any.whl (4.7 kB)\n",
      "Installing collected packages: et-xmlfile, openpyxl\n",
      "Successfully installed et-xmlfile-1.1.0 openpyxl-3.1.5\n",
      "Note: you may need to restart the kernel to use updated packages.\n"
     ]
    }
   ],
   "source": [
    "pip install openpyxl --upgrade"
   ]
  },
  {
   "cell_type": "code",
   "execution_count": 5,
   "metadata": {},
   "outputs": [
    {
     "name": "stdout",
     "output_type": "stream",
     "text": [
      "Requirement already satisfied: pandas in /home/codespace/.local/lib/python3.12/site-packages (2.2.3)\n",
      "Requirement already satisfied: numpy>=1.26.0 in /home/codespace/.local/lib/python3.12/site-packages (from pandas) (2.1.1)\n",
      "Requirement already satisfied: python-dateutil>=2.8.2 in /home/codespace/.local/lib/python3.12/site-packages (from pandas) (2.9.0.post0)\n",
      "Requirement already satisfied: pytz>=2020.1 in /home/codespace/.local/lib/python3.12/site-packages (from pandas) (2024.2)\n",
      "Requirement already satisfied: tzdata>=2022.7 in /home/codespace/.local/lib/python3.12/site-packages (from pandas) (2024.2)\n",
      "Requirement already satisfied: six>=1.5 in /home/codespace/.local/lib/python3.12/site-packages (from python-dateutil>=2.8.2->pandas) (1.16.0)\n",
      "Note: you may need to restart the kernel to use updated packages.\n"
     ]
    }
   ],
   "source": [
    "pip install pandas --upgrade"
   ]
  },
  {
   "cell_type": "code",
   "execution_count": 6,
   "metadata": {},
   "outputs": [
    {
     "name": "stderr",
     "output_type": "stream",
     "text": [
      "/usr/local/python/3.12.1/lib/python3.12/site-packages/openpyxl/worksheet/header_footer.py:48: UserWarning: Cannot parse header or footer so it will be ignored\n",
      "  warn(\"\"\"Cannot parse header or footer so it will be ignored\"\"\")\n"
     ]
    }
   ],
   "source": [
    "dados = pd.read_excel(\"/workspaces/pandas/case_tecnico/Timesheet.xlsx\")"
   ]
  },
  {
   "cell_type": "code",
   "execution_count": 7,
   "metadata": {},
   "outputs": [
    {
     "data": {
      "text/html": [
       "<div>\n",
       "<style scoped>\n",
       "    .dataframe tbody tr th:only-of-type {\n",
       "        vertical-align: middle;\n",
       "    }\n",
       "\n",
       "    .dataframe tbody tr th {\n",
       "        vertical-align: top;\n",
       "    }\n",
       "\n",
       "    .dataframe thead th {\n",
       "        text-align: right;\n",
       "    }\n",
       "</style>\n",
       "<table border=\"1\" class=\"dataframe\">\n",
       "  <thead>\n",
       "    <tr style=\"text-align: right;\">\n",
       "      <th></th>\n",
       "      <th>EMPRESA</th>\n",
       "      <th>ATIVIDADE</th>\n",
       "      <th>USUÁRIO</th>\n",
       "      <th>EQUIPE</th>\n",
       "      <th>DT_INICIO</th>\n",
       "      <th>HORA_INICIO</th>\n",
       "      <th>DT_FIM</th>\n",
       "      <th>HORA_FIM</th>\n",
       "      <th>TEMPO</th>\n",
       "    </tr>\n",
       "  </thead>\n",
       "  <tbody>\n",
       "    <tr>\n",
       "      <th>0</th>\n",
       "      <td>Empresa 298</td>\n",
       "      <td>DSRE</td>\n",
       "      <td>Analista 58</td>\n",
       "      <td>Equipe 5</td>\n",
       "      <td>45356</td>\n",
       "      <td>16:46:00</td>\n",
       "      <td>45356</td>\n",
       "      <td>17:03:00</td>\n",
       "      <td>00:17:00</td>\n",
       "    </tr>\n",
       "    <tr>\n",
       "      <th>1</th>\n",
       "      <td>Empresa 246</td>\n",
       "      <td>CONTROLE DA CND</td>\n",
       "      <td>Analista 58</td>\n",
       "      <td>Equipe 5</td>\n",
       "      <td>45366</td>\n",
       "      <td>16:58:00</td>\n",
       "      <td>45366</td>\n",
       "      <td>17:23:00</td>\n",
       "      <td>00:25:00</td>\n",
       "    </tr>\n",
       "    <tr>\n",
       "      <th>2</th>\n",
       "      <td>Empresa 353</td>\n",
       "      <td>DÚVIDAS DA EQUIPE</td>\n",
       "      <td>Analista 63</td>\n",
       "      <td>Equipe 5</td>\n",
       "      <td>45370</td>\n",
       "      <td>08:55:09</td>\n",
       "      <td>45370</td>\n",
       "      <td>10:09:29</td>\n",
       "      <td>01:14:20</td>\n",
       "    </tr>\n",
       "    <tr>\n",
       "      <th>3</th>\n",
       "      <td>Empresa 389</td>\n",
       "      <td>ESOCIAL</td>\n",
       "      <td>Analista 33</td>\n",
       "      <td>Equipe 7</td>\n",
       "      <td>45384</td>\n",
       "      <td>11:45:00</td>\n",
       "      <td>45384</td>\n",
       "      <td>12:08:00</td>\n",
       "      <td>00:23:00</td>\n",
       "    </tr>\n",
       "    <tr>\n",
       "      <th>4</th>\n",
       "      <td>Empresa 42</td>\n",
       "      <td>EMAILS</td>\n",
       "      <td>Analista 38</td>\n",
       "      <td>Equipe 2</td>\n",
       "      <td>45393</td>\n",
       "      <td>17:27:14</td>\n",
       "      <td>45393</td>\n",
       "      <td>17:55:17</td>\n",
       "      <td>00:28:02</td>\n",
       "    </tr>\n",
       "  </tbody>\n",
       "</table>\n",
       "</div>"
      ],
      "text/plain": [
       "       EMPRESA          ATIVIDADE      USUÁRIO    EQUIPE  DT_INICIO  \\\n",
       "0  Empresa 298               DSRE  Analista 58  Equipe 5      45356   \n",
       "1  Empresa 246    CONTROLE DA CND  Analista 58  Equipe 5      45366   \n",
       "2  Empresa 353  DÚVIDAS DA EQUIPE  Analista 63  Equipe 5      45370   \n",
       "3  Empresa 389            ESOCIAL  Analista 33  Equipe 7      45384   \n",
       "4   Empresa 42             EMAILS  Analista 38  Equipe 2      45393   \n",
       "\n",
       "  HORA_INICIO  DT_FIM  HORA_FIM     TEMPO  \n",
       "0    16:46:00   45356  17:03:00  00:17:00  \n",
       "1    16:58:00   45366  17:23:00  00:25:00  \n",
       "2    08:55:09   45370  10:09:29  01:14:20  \n",
       "3    11:45:00   45384  12:08:00  00:23:00  \n",
       "4    17:27:14   45393  17:55:17  00:28:02  "
      ]
     },
     "execution_count": 7,
     "metadata": {},
     "output_type": "execute_result"
    }
   ],
   "source": [
    "dados.head()"
   ]
  },
  {
   "cell_type": "code",
   "execution_count": 8,
   "metadata": {},
   "outputs": [
    {
     "data": {
      "text/plain": [
       "pandas.core.frame.DataFrame"
      ]
     },
     "execution_count": 8,
     "metadata": {},
     "output_type": "execute_result"
    }
   ],
   "source": [
    "# verificando o tipo dos dados\n",
    "type(dados)"
   ]
  },
  {
   "cell_type": "code",
   "execution_count": 9,
   "metadata": {},
   "outputs": [
    {
     "data": {
      "text/plain": [
       "(21571, 9)"
      ]
     },
     "execution_count": 9,
     "metadata": {},
     "output_type": "execute_result"
    }
   ],
   "source": [
    "# verificando o numero de linhas e colunas\n",
    "dados.shape"
   ]
  },
  {
   "cell_type": "code",
   "execution_count": 10,
   "metadata": {},
   "outputs": [
    {
     "name": "stdout",
     "output_type": "stream",
     "text": [
      "<class 'pandas.core.frame.DataFrame'>\n",
      "RangeIndex: 21571 entries, 0 to 21570\n",
      "Data columns (total 9 columns):\n",
      " #   Column       Non-Null Count  Dtype \n",
      "---  ------       --------------  ----- \n",
      " 0   EMPRESA      21571 non-null  object\n",
      " 1   ATIVIDADE    21031 non-null  object\n",
      " 2   USUÁRIO      21571 non-null  object\n",
      " 3   EQUIPE       21571 non-null  object\n",
      " 4   DT_INICIO    21571 non-null  int64 \n",
      " 5   HORA_INICIO  21571 non-null  object\n",
      " 6   DT_FIM       21571 non-null  int64 \n",
      " 7   HORA_FIM     21571 non-null  object\n",
      " 8   TEMPO        21571 non-null  object\n",
      "dtypes: int64(2), object(7)\n",
      "memory usage: 1.5+ MB\n"
     ]
    }
   ],
   "source": [
    "# informações gerais do dataframe\n",
    "dados.info()"
   ]
  },
  {
   "cell_type": "code",
   "execution_count": 11,
   "metadata": {},
   "outputs": [
    {
     "data": {
      "text/html": [
       "<div>\n",
       "<style scoped>\n",
       "    .dataframe tbody tr th:only-of-type {\n",
       "        vertical-align: middle;\n",
       "    }\n",
       "\n",
       "    .dataframe tbody tr th {\n",
       "        vertical-align: top;\n",
       "    }\n",
       "\n",
       "    .dataframe thead th {\n",
       "        text-align: right;\n",
       "    }\n",
       "</style>\n",
       "<table border=\"1\" class=\"dataframe\">\n",
       "  <thead>\n",
       "    <tr style=\"text-align: right;\">\n",
       "      <th></th>\n",
       "      <th>DT_INICIO</th>\n",
       "      <th>DT_FIM</th>\n",
       "    </tr>\n",
       "  </thead>\n",
       "  <tbody>\n",
       "    <tr>\n",
       "      <th>0</th>\n",
       "      <td>45356</td>\n",
       "      <td>45356</td>\n",
       "    </tr>\n",
       "    <tr>\n",
       "      <th>1</th>\n",
       "      <td>45366</td>\n",
       "      <td>45366</td>\n",
       "    </tr>\n",
       "    <tr>\n",
       "      <th>2</th>\n",
       "      <td>45370</td>\n",
       "      <td>45370</td>\n",
       "    </tr>\n",
       "    <tr>\n",
       "      <th>3</th>\n",
       "      <td>45384</td>\n",
       "      <td>45384</td>\n",
       "    </tr>\n",
       "    <tr>\n",
       "      <th>4</th>\n",
       "      <td>45393</td>\n",
       "      <td>45393</td>\n",
       "    </tr>\n",
       "    <tr>\n",
       "      <th>...</th>\n",
       "      <td>...</td>\n",
       "      <td>...</td>\n",
       "    </tr>\n",
       "    <tr>\n",
       "      <th>21566</th>\n",
       "      <td>45364</td>\n",
       "      <td>45364</td>\n",
       "    </tr>\n",
       "    <tr>\n",
       "      <th>21567</th>\n",
       "      <td>45363</td>\n",
       "      <td>45363</td>\n",
       "    </tr>\n",
       "    <tr>\n",
       "      <th>21568</th>\n",
       "      <td>45384</td>\n",
       "      <td>45384</td>\n",
       "    </tr>\n",
       "    <tr>\n",
       "      <th>21569</th>\n",
       "      <td>45393</td>\n",
       "      <td>45393</td>\n",
       "    </tr>\n",
       "    <tr>\n",
       "      <th>21570</th>\n",
       "      <td>45400</td>\n",
       "      <td>45400</td>\n",
       "    </tr>\n",
       "  </tbody>\n",
       "</table>\n",
       "<p>21571 rows × 2 columns</p>\n",
       "</div>"
      ],
      "text/plain": [
       "       DT_INICIO  DT_FIM\n",
       "0          45356   45356\n",
       "1          45366   45366\n",
       "2          45370   45370\n",
       "3          45384   45384\n",
       "4          45393   45393\n",
       "...          ...     ...\n",
       "21566      45364   45364\n",
       "21567      45363   45363\n",
       "21568      45384   45384\n",
       "21569      45393   45393\n",
       "21570      45400   45400\n",
       "\n",
       "[21571 rows x 2 columns]"
      ]
     },
     "execution_count": 11,
     "metadata": {},
     "output_type": "execute_result"
    }
   ],
   "source": [
    "# verificando a coluna 'data inicio' e 'data fim'\n",
    "dados[['DT_INICIO', 'DT_FIM']]"
   ]
  },
  {
   "cell_type": "code",
   "execution_count": 21,
   "metadata": {},
   "outputs": [
    {
     "data": {
      "text/plain": [
       "EMPRESA          0\n",
       "ATIVIDADE      540\n",
       "USUÁRIO          0\n",
       "EQUIPE           0\n",
       "DT_INICIO        0\n",
       "HORA_INICIO      0\n",
       "DT_FIM           0\n",
       "HORA_FIM         0\n",
       "TEMPO            0\n",
       "dtype: int64"
      ]
     },
     "execution_count": 21,
     "metadata": {},
     "output_type": "execute_result"
    }
   ],
   "source": [
    "# verificando se o dataframe contém dados nulos\n",
    "dados.isnull().sum()"
   ]
  },
  {
   "cell_type": "code",
   "execution_count": 23,
   "metadata": {},
   "outputs": [
    {
     "data": {
      "text/html": [
       "<div>\n",
       "<style scoped>\n",
       "    .dataframe tbody tr th:only-of-type {\n",
       "        vertical-align: middle;\n",
       "    }\n",
       "\n",
       "    .dataframe tbody tr th {\n",
       "        vertical-align: top;\n",
       "    }\n",
       "\n",
       "    .dataframe thead th {\n",
       "        text-align: right;\n",
       "    }\n",
       "</style>\n",
       "<table border=\"1\" class=\"dataframe\">\n",
       "  <thead>\n",
       "    <tr style=\"text-align: right;\">\n",
       "      <th></th>\n",
       "      <th>EMPRESA</th>\n",
       "      <th>ATIVIDADE</th>\n",
       "      <th>USUÁRIO</th>\n",
       "      <th>EQUIPE</th>\n",
       "      <th>DT_INICIO</th>\n",
       "      <th>HORA_INICIO</th>\n",
       "      <th>DT_FIM</th>\n",
       "      <th>HORA_FIM</th>\n",
       "      <th>TEMPO</th>\n",
       "    </tr>\n",
       "  </thead>\n",
       "  <tbody>\n",
       "    <tr>\n",
       "      <th>0</th>\n",
       "      <td>Empresa 298</td>\n",
       "      <td>DSRE</td>\n",
       "      <td>Analista 58</td>\n",
       "      <td>Equipe 5</td>\n",
       "      <td>45356</td>\n",
       "      <td>16:46:00</td>\n",
       "      <td>45356</td>\n",
       "      <td>17:03:00</td>\n",
       "      <td>00:17:00</td>\n",
       "    </tr>\n",
       "    <tr>\n",
       "      <th>1</th>\n",
       "      <td>Empresa 246</td>\n",
       "      <td>CONTROLE DA CND</td>\n",
       "      <td>Analista 58</td>\n",
       "      <td>Equipe 5</td>\n",
       "      <td>45366</td>\n",
       "      <td>16:58:00</td>\n",
       "      <td>45366</td>\n",
       "      <td>17:23:00</td>\n",
       "      <td>00:25:00</td>\n",
       "    </tr>\n",
       "    <tr>\n",
       "      <th>2</th>\n",
       "      <td>Empresa 353</td>\n",
       "      <td>DÚVIDAS DA EQUIPE</td>\n",
       "      <td>Analista 63</td>\n",
       "      <td>Equipe 5</td>\n",
       "      <td>45370</td>\n",
       "      <td>08:55:09</td>\n",
       "      <td>45370</td>\n",
       "      <td>10:09:29</td>\n",
       "      <td>01:14:20</td>\n",
       "    </tr>\n",
       "    <tr>\n",
       "      <th>3</th>\n",
       "      <td>Empresa 389</td>\n",
       "      <td>ESOCIAL</td>\n",
       "      <td>Analista 33</td>\n",
       "      <td>Equipe 7</td>\n",
       "      <td>45384</td>\n",
       "      <td>11:45:00</td>\n",
       "      <td>45384</td>\n",
       "      <td>12:08:00</td>\n",
       "      <td>00:23:00</td>\n",
       "    </tr>\n",
       "    <tr>\n",
       "      <th>4</th>\n",
       "      <td>Empresa 42</td>\n",
       "      <td>EMAILS</td>\n",
       "      <td>Analista 38</td>\n",
       "      <td>Equipe 2</td>\n",
       "      <td>45393</td>\n",
       "      <td>17:27:14</td>\n",
       "      <td>45393</td>\n",
       "      <td>17:55:17</td>\n",
       "      <td>00:28:02</td>\n",
       "    </tr>\n",
       "    <tr>\n",
       "      <th>...</th>\n",
       "      <td>...</td>\n",
       "      <td>...</td>\n",
       "      <td>...</td>\n",
       "      <td>...</td>\n",
       "      <td>...</td>\n",
       "      <td>...</td>\n",
       "      <td>...</td>\n",
       "      <td>...</td>\n",
       "      <td>...</td>\n",
       "    </tr>\n",
       "    <tr>\n",
       "      <th>21566</th>\n",
       "      <td>Empresa 424</td>\n",
       "      <td>FOPAG ADIANTAMENTO</td>\n",
       "      <td>Analista 28</td>\n",
       "      <td>Equipe 7</td>\n",
       "      <td>45364</td>\n",
       "      <td>13:00:00</td>\n",
       "      <td>45364</td>\n",
       "      <td>13:30:00</td>\n",
       "      <td>00:30:00</td>\n",
       "    </tr>\n",
       "    <tr>\n",
       "      <th>21567</th>\n",
       "      <td>Empresa 18</td>\n",
       "      <td>BAIXA DE IMPOSTOS</td>\n",
       "      <td>Analista 68</td>\n",
       "      <td>Equipe 4</td>\n",
       "      <td>45363</td>\n",
       "      <td>10:00:00</td>\n",
       "      <td>45363</td>\n",
       "      <td>11:00:00</td>\n",
       "      <td>01:00:00</td>\n",
       "    </tr>\n",
       "    <tr>\n",
       "      <th>21568</th>\n",
       "      <td>Empresa 253</td>\n",
       "      <td>FECHAMENTO FISCAL</td>\n",
       "      <td>Analista 39</td>\n",
       "      <td>Equipe 1</td>\n",
       "      <td>45384</td>\n",
       "      <td>10:39:45</td>\n",
       "      <td>45384</td>\n",
       "      <td>13:57:11</td>\n",
       "      <td>03:17:26</td>\n",
       "    </tr>\n",
       "    <tr>\n",
       "      <th>21569</th>\n",
       "      <td>Empresa 260</td>\n",
       "      <td>FECHAMENTO FISCAL</td>\n",
       "      <td>Analista 11</td>\n",
       "      <td>Equipe 1</td>\n",
       "      <td>45393</td>\n",
       "      <td>15:11:30</td>\n",
       "      <td>45393</td>\n",
       "      <td>21:20:38</td>\n",
       "      <td>06:09:07</td>\n",
       "    </tr>\n",
       "    <tr>\n",
       "      <th>21570</th>\n",
       "      <td>Empresa 14</td>\n",
       "      <td>EMISSÃO DE RELATÓRIOS GERENCIAIS</td>\n",
       "      <td>Analista 7</td>\n",
       "      <td>Equipe 4</td>\n",
       "      <td>45400</td>\n",
       "      <td>13:15:00</td>\n",
       "      <td>45400</td>\n",
       "      <td>13:58:00</td>\n",
       "      <td>00:43:00</td>\n",
       "    </tr>\n",
       "  </tbody>\n",
       "</table>\n",
       "<p>21571 rows × 9 columns</p>\n",
       "</div>"
      ],
      "text/plain": [
       "           EMPRESA                         ATIVIDADE      USUÁRIO    EQUIPE  \\\n",
       "0      Empresa 298                              DSRE  Analista 58  Equipe 5   \n",
       "1      Empresa 246                   CONTROLE DA CND  Analista 58  Equipe 5   \n",
       "2      Empresa 353                 DÚVIDAS DA EQUIPE  Analista 63  Equipe 5   \n",
       "3      Empresa 389                           ESOCIAL  Analista 33  Equipe 7   \n",
       "4       Empresa 42                            EMAILS  Analista 38  Equipe 2   \n",
       "...            ...                               ...          ...       ...   \n",
       "21566  Empresa 424                FOPAG ADIANTAMENTO  Analista 28  Equipe 7   \n",
       "21567   Empresa 18                 BAIXA DE IMPOSTOS  Analista 68  Equipe 4   \n",
       "21568  Empresa 253                 FECHAMENTO FISCAL  Analista 39  Equipe 1   \n",
       "21569  Empresa 260                 FECHAMENTO FISCAL  Analista 11  Equipe 1   \n",
       "21570   Empresa 14  EMISSÃO DE RELATÓRIOS GERENCIAIS   Analista 7  Equipe 4   \n",
       "\n",
       "       DT_INICIO HORA_INICIO  DT_FIM  HORA_FIM     TEMPO  \n",
       "0          45356    16:46:00   45356  17:03:00  00:17:00  \n",
       "1          45366    16:58:00   45366  17:23:00  00:25:00  \n",
       "2          45370    08:55:09   45370  10:09:29  01:14:20  \n",
       "3          45384    11:45:00   45384  12:08:00  00:23:00  \n",
       "4          45393    17:27:14   45393  17:55:17  00:28:02  \n",
       "...          ...         ...     ...       ...       ...  \n",
       "21566      45364    13:00:00   45364  13:30:00  00:30:00  \n",
       "21567      45363    10:00:00   45363  11:00:00  01:00:00  \n",
       "21568      45384    10:39:45   45384  13:57:11  03:17:26  \n",
       "21569      45393    15:11:30   45393  21:20:38  06:09:07  \n",
       "21570      45400    13:15:00   45400  13:58:00  00:43:00  \n",
       "\n",
       "[21571 rows x 9 columns]"
      ]
     },
     "execution_count": 23,
     "metadata": {},
     "output_type": "execute_result"
    }
   ],
   "source": [
    "# atribuindo um valor \"OUTRO\" onde contém dado nulo\n",
    "dados.fillna('OUTRO')"
   ]
  }
 ],
 "metadata": {
  "kernelspec": {
   "display_name": "Python 3",
   "language": "python",
   "name": "python3"
  },
  "language_info": {
   "codemirror_mode": {
    "name": "ipython",
    "version": 3
   },
   "file_extension": ".py",
   "mimetype": "text/x-python",
   "name": "python",
   "nbconvert_exporter": "python",
   "pygments_lexer": "ipython3",
   "version": "3.12.1"
  }
 },
 "nbformat": 4,
 "nbformat_minor": 2
}
